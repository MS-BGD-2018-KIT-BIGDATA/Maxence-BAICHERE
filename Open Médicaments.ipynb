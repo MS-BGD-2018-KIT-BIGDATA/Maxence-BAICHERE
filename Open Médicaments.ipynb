{
 "cells": [
  {
   "cell_type": "markdown",
   "metadata": {},
   "source": [
    "### Recuperer \"labo\", \"Equivalent traitement\", \"Annee commercialisation\", \"mois commercialisation\", \"prix\",\"restriction age\", \"restriction poids\" pour l'ibuprofène"
   ]
  },
  {
   "cell_type": "code",
   "execution_count": null,
   "metadata": {},
   "outputs": [],
   "source": [
    "import requests\n",
    "import pandas as pd\n",
    "import urllib\n",
    "import urllib.request\n",
    "import re\n",
    "\n",
    "labo = []\n",
    "eqTraitements = []\n",
    "AnneeCommer = []\n",
    "moisCommer = []\n",
    "prix = []\n",
    "Age = []\n",
    "Poids = []\n",
    "def eqTraitement(inf):\n",
    "    total = 0\n",
    "    dosageSubstance = inf['compositions'][0]['substancesActives'][0]['dosageSubstance']\n",
    "    designation = inf['compositions'][0]['designationElementPharmaceutique']\n",
    "    nbComprimes = inf['presentations'][0]['libelle']\n",
    "    nbComprimes = re.findall('[0-9]+',nbComprimes)\n",
    "    dose = (int)(re.findall('[0-9]+',dosageSubstance)[0])\n",
    "    unite = re.findall('[a-z]+',dosageSubstance)\n",
    "    if designation == 'comprimé':\n",
    "        total = dose * (int)(nbComprimes[0])\n",
    "    elif designation == 'gel':\n",
    "        referenceDosage = inf['compositions'][0]['referenceDosage']\n",
    "        ref = (int)(re.findall('[0-9]+',referenceDosage)[0])\n",
    "        a = (int)(nbComprimes[0])\n",
    "        b = (int)(nbComprimes[1])\n",
    "        total = a*b*dose/ref\n",
    "    elif designation == 'solution':\n",
    "        referenceDosage = inf['compositions'][0]['referenceDosage']\n",
    "        ref = (int)(re.findall('[0-9]+',referenceDosage)[0])\n",
    "        a = (int)(nbComprimes[0])\n",
    "        b = (int)(nbComprimes[1])\n",
    "        total = a*b*dose/ref\n",
    "    else:\n",
    "        print('ERROR')\n",
    "    if 'mg' in unite:\n",
    "        total = total/1000\n",
    "    elif 'kg' in unite:\n",
    "        total = total*1000\n",
    "    return total\n",
    "\n",
    "\n",
    "def getAllCIS(link):\n",
    "    ibuprofenes = requests.get(link).json()\n",
    "    codes = []\n",
    "    for e in ibuprofenes:\n",
    "        codes.append(e['codeCIS'])\n",
    "    return codes\n",
    "\n",
    "def getDataForACIS(code):\n",
    "    code = str(code)\n",
    "    url = 'https://www.open-medicaments.fr/api/v1/medicaments/'+code \n",
    "    inf = requests.get(url).json()\n",
    "    texte = requests.get(url).text\n",
    "    eqTraitements.append(str(eqTraitement(inf))+\" grammes\")\n",
    "    date = inf['presentations'][0]['dateDeclarationCommercialisation']\n",
    "    AnneeCommer.append(date[0:4])\n",
    "    moisCommer.append(date[5:7])\n",
    "    lab = inf['titulaires'][0]\n",
    "    age = re.findall('([0-9]+) ans', texte)\n",
    "    poids = re.findall('([0-9]+) kg', texte)\n",
    "    ageRestriction = 'None'\n",
    "    poidsRestriction = 'None'\n",
    "    if len(age)>0:\n",
    "        ageRestriction = age[0] + \" ans\"\n",
    "    if len(poids)>0:\n",
    "        poidsRestriction = poids[0] + \" kgs\"\n",
    "    Age.append(ageRestriction)\n",
    "    Poids.append(poidsRestriction)\n",
    "    labo.append(lab)\n",
    "\n",
    "def convertToDf():\n",
    "    df=pd.DataFrame(labo,columns = ['LABO'])\n",
    "    df[\"ANNEE\"] = AnneeCommer\n",
    "    df[\"MOIS\"] = moisCommer\n",
    "    df[\"EQ TRAITEMENT\"] = eqTraitements\n",
    "    df[\"AGE RESTRICTION\"] = Age\n",
    "    df[\"POIDS RESTRICTION\"] = Poids\n",
    "    return df\n",
    "\n",
    "def mainMethod(medicament):\n",
    "    medicament = str(medicament)\n",
    "    url = 'https://www.open-medicaments.fr/api/v1/medicaments?query='+medicament\n",
    "    codes = getAllCIS(url)\n",
    "    for code in codes:\n",
    "        getDataForACIS(code)\n",
    "    df = convertToDf()\n",
    "    return df"
   ]
  },
  {
   "cell_type": "markdown",
   "metadata": {},
   "source": [
    "### Choisissez le médicament que vous souhaitez consulter"
   ]
  },
  {
   "cell_type": "code",
   "execution_count": null,
   "metadata": {},
   "outputs": [],
   "source": [
    "mainMethod('ibuprofene')"
   ]
  }
 ],
 "metadata": {
  "kernelspec": {
   "display_name": "Python 3",
   "language": "python",
   "name": "python3"
  },
  "language_info": {
   "codemirror_mode": {
    "name": "ipython",
    "version": 3
   },
   "file_extension": ".py",
   "mimetype": "text/x-python",
   "name": "python",
   "nbconvert_exporter": "python",
   "pygments_lexer": "ipython3",
   "version": "3.6.2"
  }
 },
 "nbformat": 4,
 "nbformat_minor": 2
}
