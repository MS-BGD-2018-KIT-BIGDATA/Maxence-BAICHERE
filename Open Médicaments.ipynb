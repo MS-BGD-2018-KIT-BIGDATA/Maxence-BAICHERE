{
 "cells": [
  {
   "cell_type": "markdown",
   "metadata": {},
   "source": [
    "### Recuperer \"labo\", \"Equivalent traitement\", \"Annee commercialisation\", \"mois commercialisation\", \"prix\",\"restriction age\", \"restriction poids\" pour l'ibuprofène"
   ]
  },
  {
   "cell_type": "code",
   "execution_count": 1,
   "metadata": {},
   "outputs": [],
   "source": [
    "import requests\n",
    "import pandas as pd\n",
    "import urllib\n",
    "import urllib.request\n",
    "\n",
    "labo = []\n",
    "eqTraitements = []\n",
    "AnneeCommer = []\n",
    "moisCommer = []\n",
    "prix = []\n",
    "Age = []\n",
    "Poids = []\n",
    "def eqTraitement(inf):\n",
    "    total = 0\n",
    "    dosageSubstance = inf['compositions'][0]['substancesActives'][0]['dosageSubstance']\n",
    "    designation = inf['compositions'][0]['designationElementPharmaceutique']\n",
    "    nbComprimes = inf['presentations'][0]['libelle']\n",
    "    nbComprimes = re.findall('[0-9]+',nbComprimes)\n",
    "    dose = (int)(re.findall('[0-9]+',dosageSubstance)[0])\n",
    "    unite = re.findall('[a-z]+',dosageSubstance)\n",
    "    if designation == 'comprimé':\n",
    "        total = dose * (int)(nbComprimes[0])\n",
    "    elif designation == 'gel':\n",
    "        referenceDosage = inf['compositions'][0]['referenceDosage']\n",
    "        ref = (int)(re.findall('[0-9]+',referenceDosage)[0])\n",
    "        a = (int)(nbComprimes[0])\n",
    "        b = (int)(nbComprimes[1])\n",
    "        total = a*b*dose/ref\n",
    "    elif designation == 'solution':\n",
    "        referenceDosage = inf['compositions'][0]['referenceDosage']\n",
    "        ref = (int)(re.findall('[0-9]+',referenceDosage)[0])\n",
    "        a = (int)(nbComprimes[0])\n",
    "        b = (int)(nbComprimes[1])\n",
    "        total = a*b*dose/ref\n",
    "    else:\n",
    "        print('ERROR')\n",
    "    if 'mg' in unite:\n",
    "        total = total/1000\n",
    "    elif 'kg' in unite:\n",
    "        total = total*1000\n",
    "    return total\n",
    "\n",
    "\n",
    "def getAllCIS(link):\n",
    "    ibuprofenes = requests.get(link).json()\n",
    "    codes = []\n",
    "    for e in ibuprofenes:\n",
    "        codes.append(e['codeCIS'])\n",
    "    return codes\n",
    "\n",
    "def getDataForACIS(code):\n",
    "    code = str(code)\n",
    "    url = 'https://www.open-medicaments.fr/api/v1/medicaments/'+code \n",
    "    inf = requests.get(url).json()\n",
    "    texte = requests.get(url).text\n",
    "    eqTraitements.append(str(eqTraitement(inf))+\" grammes\")\n",
    "    date = inf['presentations'][0]['dateDeclarationCommercialisation']\n",
    "    AnneeCommer.append(date[0:4])\n",
    "    moisCommer.append(date[5:7])\n",
    "    lab = inf['titulaires'][0]\n",
    "    age = re.findall('([0-9]+) ans', texte)\n",
    "    poids = re.findall('([0-9]+) kg', texte)\n",
    "    ageRestriction = 'None'\n",
    "    poidsRestriction = 'None'\n",
    "    if len(age)>0:\n",
    "        ageRestriction = age[0] + \" ans\"\n",
    "    if len(poids)>0:\n",
    "        poidsRestriction = poids[0] + \" kgs\"\n",
    "    Age.append(ageRestriction)\n",
    "    Poids.append(poidsRestriction)\n",
    "    labo.append(lab)\n",
    "\n",
    "def convertToDf():\n",
    "    df=pd.DataFrame(labo,columns = ['LABO'])\n",
    "    df[\"ANNEE\"] = AnneeCommer\n",
    "    df[\"MOIS\"] = moisCommer\n",
    "    df[\"EQ TRAITEMENT\"] = eqTraitements\n",
    "    df[\"AGE RESTRICTION\"] = Age\n",
    "    df[\"POIDS RESTRICTION\"] = Poids\n",
    "    return df\n",
    "\n",
    "def mainMethod(medicament):\n",
    "    medicament = str(medicament)\n",
    "    url = 'https://www.open-medicaments.fr/api/v1/medicaments?query='+medicament\n",
    "    codes = getAllCIS(url)\n",
    "    for code in codes:\n",
    "        getDataForACIS(code)\n",
    "    df = convertToDf()\n",
    "    return df"
   ]
  },
  {
   "cell_type": "markdown",
   "metadata": {},
   "source": [
    "### Choisissez le médicament que vous souhaitez consulter"
   ]
  },
  {
   "cell_type": "code",
   "execution_count": 2,
   "metadata": {},
   "outputs": [
    {
     "ename": "NameError",
     "evalue": "name 're' is not defined",
     "output_type": "error",
     "traceback": [
      "\u001b[0;31m---------------------------------------------------------------------------\u001b[0m",
      "\u001b[0;31mNameError\u001b[0m                                 Traceback (most recent call last)",
      "\u001b[0;32m<ipython-input-2-c85c8dfd42e2>\u001b[0m in \u001b[0;36m<module>\u001b[0;34m()\u001b[0m\n\u001b[0;32m----> 1\u001b[0;31m \u001b[0mmainMethod\u001b[0m\u001b[0;34m(\u001b[0m\u001b[0;34m'ibuprofene'\u001b[0m\u001b[0;34m)\u001b[0m\u001b[0;34m\u001b[0m\u001b[0m\n\u001b[0m",
      "\u001b[0;32m<ipython-input-1-0f50d3a9bc66>\u001b[0m in \u001b[0;36mmainMethod\u001b[0;34m(medicament)\u001b[0m\n\u001b[1;32m     85\u001b[0m     \u001b[0mcodes\u001b[0m \u001b[0;34m=\u001b[0m \u001b[0mgetAllCIS\u001b[0m\u001b[0;34m(\u001b[0m\u001b[0murl\u001b[0m\u001b[0;34m)\u001b[0m\u001b[0;34m\u001b[0m\u001b[0m\n\u001b[1;32m     86\u001b[0m     \u001b[0;32mfor\u001b[0m \u001b[0mcode\u001b[0m \u001b[0;32min\u001b[0m \u001b[0mcodes\u001b[0m\u001b[0;34m:\u001b[0m\u001b[0;34m\u001b[0m\u001b[0m\n\u001b[0;32m---> 87\u001b[0;31m         \u001b[0mgetDataForACIS\u001b[0m\u001b[0;34m(\u001b[0m\u001b[0mcode\u001b[0m\u001b[0;34m)\u001b[0m\u001b[0;34m\u001b[0m\u001b[0m\n\u001b[0m\u001b[1;32m     88\u001b[0m     \u001b[0mdf\u001b[0m \u001b[0;34m=\u001b[0m \u001b[0mconvertToDf\u001b[0m\u001b[0;34m(\u001b[0m\u001b[0;34m)\u001b[0m\u001b[0;34m\u001b[0m\u001b[0m\n\u001b[1;32m     89\u001b[0m     \u001b[0;32mreturn\u001b[0m \u001b[0mdf\u001b[0m\u001b[0;34m\u001b[0m\u001b[0m\n",
      "\u001b[0;32m<ipython-input-1-0f50d3a9bc66>\u001b[0m in \u001b[0;36mgetDataForACIS\u001b[0;34m(code)\u001b[0m\n\u001b[1;32m     54\u001b[0m     \u001b[0minf\u001b[0m \u001b[0;34m=\u001b[0m \u001b[0mrequests\u001b[0m\u001b[0;34m.\u001b[0m\u001b[0mget\u001b[0m\u001b[0;34m(\u001b[0m\u001b[0murl\u001b[0m\u001b[0;34m)\u001b[0m\u001b[0;34m.\u001b[0m\u001b[0mjson\u001b[0m\u001b[0;34m(\u001b[0m\u001b[0;34m)\u001b[0m\u001b[0;34m\u001b[0m\u001b[0m\n\u001b[1;32m     55\u001b[0m     \u001b[0mtexte\u001b[0m \u001b[0;34m=\u001b[0m \u001b[0mrequests\u001b[0m\u001b[0;34m.\u001b[0m\u001b[0mget\u001b[0m\u001b[0;34m(\u001b[0m\u001b[0murl\u001b[0m\u001b[0;34m)\u001b[0m\u001b[0;34m.\u001b[0m\u001b[0mtext\u001b[0m\u001b[0;34m\u001b[0m\u001b[0m\n\u001b[0;32m---> 56\u001b[0;31m     \u001b[0meqTraitements\u001b[0m\u001b[0;34m.\u001b[0m\u001b[0mappend\u001b[0m\u001b[0;34m(\u001b[0m\u001b[0mstr\u001b[0m\u001b[0;34m(\u001b[0m\u001b[0meqTraitement\u001b[0m\u001b[0;34m(\u001b[0m\u001b[0minf\u001b[0m\u001b[0;34m)\u001b[0m\u001b[0;34m)\u001b[0m\u001b[0;34m+\u001b[0m\u001b[0;34m\" grammes\"\u001b[0m\u001b[0;34m)\u001b[0m\u001b[0;34m\u001b[0m\u001b[0m\n\u001b[0m\u001b[1;32m     57\u001b[0m     \u001b[0mdate\u001b[0m \u001b[0;34m=\u001b[0m \u001b[0minf\u001b[0m\u001b[0;34m[\u001b[0m\u001b[0;34m'presentations'\u001b[0m\u001b[0;34m]\u001b[0m\u001b[0;34m[\u001b[0m\u001b[0;36m0\u001b[0m\u001b[0;34m]\u001b[0m\u001b[0;34m[\u001b[0m\u001b[0;34m'dateDeclarationCommercialisation'\u001b[0m\u001b[0;34m]\u001b[0m\u001b[0;34m\u001b[0m\u001b[0m\n\u001b[1;32m     58\u001b[0m     \u001b[0mAnneeCommer\u001b[0m\u001b[0;34m.\u001b[0m\u001b[0mappend\u001b[0m\u001b[0;34m(\u001b[0m\u001b[0mdate\u001b[0m\u001b[0;34m[\u001b[0m\u001b[0;36m0\u001b[0m\u001b[0;34m:\u001b[0m\u001b[0;36m4\u001b[0m\u001b[0;34m]\u001b[0m\u001b[0;34m)\u001b[0m\u001b[0;34m\u001b[0m\u001b[0m\n",
      "\u001b[0;32m<ipython-input-1-0f50d3a9bc66>\u001b[0m in \u001b[0;36meqTraitement\u001b[0;34m(inf)\u001b[0m\n\u001b[1;32m     16\u001b[0m     \u001b[0mdesignation\u001b[0m \u001b[0;34m=\u001b[0m \u001b[0minf\u001b[0m\u001b[0;34m[\u001b[0m\u001b[0;34m'compositions'\u001b[0m\u001b[0;34m]\u001b[0m\u001b[0;34m[\u001b[0m\u001b[0;36m0\u001b[0m\u001b[0;34m]\u001b[0m\u001b[0;34m[\u001b[0m\u001b[0;34m'designationElementPharmaceutique'\u001b[0m\u001b[0;34m]\u001b[0m\u001b[0;34m\u001b[0m\u001b[0m\n\u001b[1;32m     17\u001b[0m     \u001b[0mnbComprimes\u001b[0m \u001b[0;34m=\u001b[0m \u001b[0minf\u001b[0m\u001b[0;34m[\u001b[0m\u001b[0;34m'presentations'\u001b[0m\u001b[0;34m]\u001b[0m\u001b[0;34m[\u001b[0m\u001b[0;36m0\u001b[0m\u001b[0;34m]\u001b[0m\u001b[0;34m[\u001b[0m\u001b[0;34m'libelle'\u001b[0m\u001b[0;34m]\u001b[0m\u001b[0;34m\u001b[0m\u001b[0m\n\u001b[0;32m---> 18\u001b[0;31m     \u001b[0mnbComprimes\u001b[0m \u001b[0;34m=\u001b[0m \u001b[0mre\u001b[0m\u001b[0;34m.\u001b[0m\u001b[0mfindall\u001b[0m\u001b[0;34m(\u001b[0m\u001b[0;34m'[0-9]+'\u001b[0m\u001b[0;34m,\u001b[0m\u001b[0mnbComprimes\u001b[0m\u001b[0;34m)\u001b[0m\u001b[0;34m\u001b[0m\u001b[0m\n\u001b[0m\u001b[1;32m     19\u001b[0m     \u001b[0mdose\u001b[0m \u001b[0;34m=\u001b[0m \u001b[0;34m(\u001b[0m\u001b[0mint\u001b[0m\u001b[0;34m)\u001b[0m\u001b[0;34m(\u001b[0m\u001b[0mre\u001b[0m\u001b[0;34m.\u001b[0m\u001b[0mfindall\u001b[0m\u001b[0;34m(\u001b[0m\u001b[0;34m'[0-9]+'\u001b[0m\u001b[0;34m,\u001b[0m\u001b[0mdosageSubstance\u001b[0m\u001b[0;34m)\u001b[0m\u001b[0;34m[\u001b[0m\u001b[0;36m0\u001b[0m\u001b[0;34m]\u001b[0m\u001b[0;34m)\u001b[0m\u001b[0;34m\u001b[0m\u001b[0m\n\u001b[1;32m     20\u001b[0m     \u001b[0munite\u001b[0m \u001b[0;34m=\u001b[0m \u001b[0mre\u001b[0m\u001b[0;34m.\u001b[0m\u001b[0mfindall\u001b[0m\u001b[0;34m(\u001b[0m\u001b[0;34m'[a-z]+'\u001b[0m\u001b[0;34m,\u001b[0m\u001b[0mdosageSubstance\u001b[0m\u001b[0;34m)\u001b[0m\u001b[0;34m\u001b[0m\u001b[0m\n",
      "\u001b[0;31mNameError\u001b[0m: name 're' is not defined"
     ]
    }
   ],
   "source": [
    "mainMethod('ibuprofene')"
   ]
  }
 ],
 "metadata": {
  "kernelspec": {
   "display_name": "Python 3",
   "language": "python",
   "name": "python3"
  },
  "language_info": {
   "codemirror_mode": {
    "name": "ipython",
    "version": 3
   },
   "file_extension": ".py",
   "mimetype": "text/x-python",
   "name": "python",
   "nbconvert_exporter": "python",
   "pygments_lexer": "ipython3",
   "version": "3.6.2"
  }
 },
 "nbformat": 4,
 "nbformat_minor": 2
}
