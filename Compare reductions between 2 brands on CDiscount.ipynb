{
 "cells": [
  {
   "cell_type": "code",
   "execution_count": 113,
   "metadata": {},
   "outputs": [
    {
     "name": "stderr",
     "output_type": "stream",
     "text": [
      "/home/maxence/anaconda3/lib/python3.6/site-packages/bs4/__init__.py:181: UserWarning: No parser was explicitly specified, so I'm using the best available HTML parser for this system (\"lxml\"). This usually isn't a problem, but if you run this code on another system, or in a different virtual environment, it may use a different parser and behave differently.\n",
      "\n",
      "The code that caused this warning is on line 193 of the file /home/maxence/anaconda3/lib/python3.6/runpy.py. To get rid of this warning, change code that looks like this:\n",
      "\n",
      " BeautifulSoup(YOUR_MARKUP})\n",
      "\n",
      "to this:\n",
      "\n",
      " BeautifulSoup(YOUR_MARKUP, \"lxml\")\n",
      "\n",
      "  markup_type=markup_type))\n"
     ]
    },
    {
     "name": "stdout",
     "output_type": "stream",
     "text": [
      "Pourcentage du prix de départ en moyenne\n",
      "hp : \n",
      "83.8791746696\n",
      "asus : \n",
      "75.8341667575\n",
      "La marque asus propose de meilleures réductions en moyenne\n"
     ]
    }
   ],
   "source": [
    "import urllib\n",
    "import requests\n",
    "from bs4 import BeautifulSoup\n",
    "import pandas as pd\n",
    "from numpy import mean\n",
    "\n",
    "\n",
    "\n",
    "def getSoupFromURL(url):\n",
    "    #Query the website and return the html to the variable 'page'\n",
    "    page = urllib.request.urlopen(url)\n",
    "\n",
    "    #Parse the html in the 'page' variable, and store it in Beautiful Soup format\n",
    "    soup = BeautifulSoup(page)\n",
    "    return soup\n",
    "\n",
    "def getRatio(soup, name):\n",
    "    bloc = soup.find_all('div', class_='prdtBloc')\n",
    "    ratio = []\n",
    "    for b in bloc:\n",
    "        pp = b.find('div',class_='prdtPrSt')\n",
    "        p = b.find('span',class_='price')\n",
    "        t = b.find('div',class_='prdtBTit')\n",
    "        if t != None:\n",
    "            brand = t.text.strip()\n",
    "        if p != None:\n",
    "            price = createfloat(p.text.strip())\n",
    "        if pp != None:\n",
    "            previousprice = createfloat(pp.text.strip())\n",
    "        else:\n",
    "            previousprice = price\n",
    "            \n",
    "        if name in brand.lower():\n",
    "            ratio.append(price/previousprice*100)       \n",
    "    return ratio\n",
    "\n",
    "\n",
    "def createfloat(a):\n",
    "    if \"€\" in a:\n",
    "        b=float(a.replace(\"€\",\".\"))\n",
    "    if \",\" in a:\n",
    "        b=float(a.replace(\",\",\".\"))\n",
    "    return b\n",
    "\n",
    "def finalFunction(name1, name2):\n",
    "    url1 = \"https://www.cdiscount.com/informatique/ordinateurs-pc-portables/pc-portables/lf-228394_6-\"+name1+\".html#_his_\"\n",
    "    url2 = \"https://www.cdiscount.com/informatique/ordinateurs-pc-portables/pc-portables/lf-228394_6-\"+name2+\".html#_his_\"\n",
    "    soup1 = getSoupFromURL(url1)\n",
    "    soup2 = getSoupFromURL(url2)\n",
    "    ratio1 = getRatio(soup1,name1)\n",
    "    ratio2 = getRatio(soup2, name2)\n",
    "    print(\"Pourcentage du prix de départ en moyenne\")\n",
    "    print(name1+\" : \")\n",
    "    print(mean(ratio1))\n",
    "    print(name2+\" : \")\n",
    "    print(mean(ratio2))\n",
    "    if(mean(ratio1)<mean(ratio2)):\n",
    "        print(\"La marque \"+name1+\" propose de meilleures réductions en moyenne\")\n",
    "    elif(mean(ratio2)<mean(ratio1)):\n",
    "        print(\"La marque \"+name2+\" propose de meilleures réductions en moyenne\")\n",
    "    else:\n",
    "        print(\"Les deux marques proposent les mêmes réductions en moyenne\")\n",
    "\n",
    "        \n",
    "#Choose 2 brands you want to compare      \n",
    "finalFunction(\"hp\", \"asus\")\n",
    "        "
   ]
  },
  {
   "cell_type": "code",
   "execution_count": 90,
   "metadata": {
    "collapsed": true
   },
   "outputs": [],
   "source": []
  }
 ],
 "metadata": {
  "kernelspec": {
   "display_name": "Python 3",
   "language": "python",
   "name": "python3"
  },
  "language_info": {
   "codemirror_mode": {
    "name": "ipython",
    "version": 3
   },
   "file_extension": ".py",
   "mimetype": "text/x-python",
   "name": "python",
   "nbconvert_exporter": "python",
   "pygments_lexer": "ipython3",
   "version": "3.6.2"
  }
 },
 "nbformat": 4,
 "nbformat_minor": 2
}
